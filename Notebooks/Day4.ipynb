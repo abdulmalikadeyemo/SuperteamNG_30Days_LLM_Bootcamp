{
 "cells": [
  {
   "cell_type": "markdown",
   "metadata": {},
   "source": []
  },
  {
   "cell_type": "markdown",
   "metadata": {},
   "source": [
    "## Part 3: Adding Memory to the Chatbot"
   ]
  },
  {
   "cell_type": "markdown",
   "metadata": {},
   "source": [
    "Our chatbot can now use tools to answer user questions, but it doesn't remember the context of previous interactions. \n",
    "\n",
    "This limits its ability to have coherent, multi-turn conversations.\n",
    "\n",
    "LangGraph solves this problem through persistent checkpointing. \n",
    "\n",
    "If you provide a `checkpointer` when compiling the graph and a `thread_id` when calling your graph, LangGraph automatically saves the state after each step. \n",
    "\n",
    "When you invoke the graph again using the same `thread_id`, the graph loads its saved state, allowing the chatbot to pick up where it left off.\n",
    "\n",
    "We will see later that checkpointing is much more powerful than simple chat memory - it lets you save and resume complex state at any time for error recovery, human-in-the-loop workflows, time travel interactions, and more. \n",
    "\n",
    "But lets not get too ahead of ourselves, let's add checkpointing to enable multi-turn conversations."
   ]
  },
  {
   "cell_type": "markdown",
   "metadata": {},
   "source": [
    "To get started, create a `MemorySaver` checkpointer."
   ]
  },
  {
   "cell_type": "code",
   "execution_count": null,
   "metadata": {},
   "outputs": [],
   "source": [
    "from langgraph.checkpoint.memory import MemorySaver\n",
    "\n",
    "memory = MemorySaver()"
   ]
  },
  {
   "cell_type": "markdown",
   "metadata": {},
   "source": [
    "**Note:** we're using an in-memory checkpointer. This is convenient for our tutorial (it saves it all in-memory). \n",
    "\n",
    "In a production application, you should change this to use `SqliteSaver` or `PostgresSaver` and connect to your own DB."
   ]
  },
  {
   "cell_type": "markdown",
   "metadata": {},
   "source": [
    "Next define the graph. Now that you've already built your own `BasicToolNode`, we'll replace it with LangGraph's prebuilt `ToolNode` and `tools_condition`, since these do some nice things like parallel API execution. \n",
    "\n",
    "\n",
    "Apart from that, the following is all copied from Part 2 above."
   ]
  },
  {
   "cell_type": "code",
   "execution_count": null,
   "metadata": {},
   "outputs": [
    {
     "data": {
      "text/plain": [
       "<langgraph.graph.state.StateGraph at 0x125ebe090>"
      ]
     },
     "metadata": {},
     "output_type": "display_data"
    }
   ],
   "source": [
    "from typing import Annotated\n",
    "\n",
    "from langchain_ollama import ChatOllama\n",
    "from langchain_community.tools.tavily_search import TavilySearchResults\n",
    "from langchain_core.messages import BaseMessage\n",
    "from typing_extensions import TypedDict\n",
    "\n",
    "from langgraph.graph import StateGraph\n",
    "from langgraph.graph.message import add_messages\n",
    "from langgraph.prebuilt import ToolNode, tools_condition\n",
    "\n",
    "\n",
    "class State(TypedDict):\n",
    "    messages: Annotated[list, add_messages]\n",
    "\n",
    "\n",
    "graph_builder = StateGraph(State)\n",
    "\n",
    "\n",
    "search_tool = TavilySearchResults(max_results=2)\n",
    "tools = [search_tool]\n",
    "# llm = ChatOllama(model=\"llama3.2\")\n",
    "# llm = ChatGroq(model=\"mixtral-8x7b-32768\")\n",
    "llm = ChatOpenAI(model=\"gpt-4o-mini\")\n",
    "\n",
    "llm_with_tools = llm.bind_tools(tools)\n",
    "\n",
    "\n",
    "def chatbot(state: State):\n",
    "    return {\"messages\": [llm_with_tools.invoke(state[\"messages\"])]}\n",
    "\n",
    "\n",
    "graph_builder.add_node(\"chatbot\", chatbot)\n",
    "\n",
    "tool_node = ToolNode(tools=tools)\n",
    "graph_builder.add_node(\"tools\", tool_node)\n",
    "\n",
    "graph_builder.set_entry_point(\"chatbot\")\n",
    "graph_builder.add_conditional_edges(\n",
    "    \"chatbot\",\n",
    "    tools_condition,\n",
    ")\n",
    "# Any time a tool is called, we return to the chatbot to decide the next step\n",
    "graph_builder.add_edge(\"tools\", \"chatbot\")\n",
    "# graph_builder.add_edge(START, \"chatbot\")\n"
   ]
  },
  {
   "cell_type": "markdown",
   "metadata": {},
   "source": [
    "Finally, compile the graph with the provided checkpointer."
   ]
  },
  {
   "cell_type": "code",
   "execution_count": null,
   "metadata": {},
   "outputs": [],
   "source": [
    "graph = graph_builder.compile(checkpointer=memory)"
   ]
  },
  {
   "cell_type": "markdown",
   "metadata": {},
   "source": [
    "Notice the connectivity of the graph hasn't changed since Part 2. All we are doing is checkpointing the State as the graph works through each node."
   ]
  },
  {
   "cell_type": "code",
   "execution_count": null,
   "metadata": {},
   "outputs": [
    {
     "data": {
      "image/png": "[encoded data removed]",
      "text/plain": [
       "<IPython.core.display.Image object>"
      ]
     },
     "metadata": {},
     "output_type": "display_data"
    }
   ],
   "source": [
    "from IPython.display import Image, display\n",
    "\n",
    "try:\n",
    "    display(Image(graph.get_graph().draw_mermaid_png()))\n",
    "except Exception:\n",
    "    # This requires some extra dependencies and is optional\n",
    "    pass"
   ]
  },
  {
   "cell_type": "markdown",
   "metadata": {},
   "source": [
    "Now you can interact with your bot! First, pick a thread to use as the key for this conversation."
   ]
  },
  {
   "cell_type": "code",
   "execution_count": null,
   "metadata": {},
   "outputs": [],
   "source": [
    "config = {\"configurable\": {\"thread_id\": \"1\"}}"
   ]
  },
  {
   "cell_type": "markdown",
   "metadata": {},
   "source": [
    "Next, call your chat bot."
   ]
  },
  {
   "cell_type": "code",
   "execution_count": null,
   "metadata": {},
   "outputs": [
    {
     "name": "stdout",
     "output_type": "stream",
     "text": [
      "================================\u001b[1m Human Message \u001b[0m=================================\n",
      "\n",
      "Hi there! My name is Malik.\n",
      "==================================\u001b[1m Ai Message \u001b[0m==================================\n",
      "\n",
      "Hi Malik! It's great to meet you. How can I assist you today?\n"
     ]
    }
   ],
   "source": [
    "user_input = \"Hi there! My name is Malik.\"\n",
    "\n",
    "# The config is the **second positional argument** to stream() or invoke()!\n",
    "events = graph.stream(\n",
    "    {\"messages\": [(\"user\", user_input)]}, config, stream_mode=\"values\"\n",
    ")\n",
    "for event in events:\n",
    "    event[\"messages\"][-1].pretty_print()\n"
   ]
  },
  {
   "cell_type": "markdown",
   "metadata": {},
   "source": [
    "Let's ask a followup: see if it remembers your name."
   ]
  },
  {
   "cell_type": "code",
   "execution_count": null,
   "metadata": {},
   "outputs": [
    {
     "name": "stdout",
     "output_type": "stream",
     "text": [
      "================================\u001b[1m Human Message \u001b[0m=================================\n",
      "\n",
      "Remember my name?\n",
      "==================================\u001b[1m Ai Message \u001b[0m==================================\n",
      "\n",
      "Yes, your name is Malik! How can I assist you today, Malik?\n"
     ]
    }
   ],
   "source": [
    "user_input = \"Remember my name?\"\n",
    "\n",
    "# The config is the **second positional argument** to stream() or invoke()!\n",
    "events = graph.stream(\n",
    "    {\"messages\": [(\"user\", user_input)]}, config, stream_mode=\"values\"\n",
    ")\n",
    "for event in events:\n",
    "    event[\"messages\"][-1].pretty_print()"
   ]
  },
  {
   "cell_type": "markdown",
   "metadata": {},
   "source": [
    "Here is what happens if you using a different config."
   ]
  },
  {
   "cell_type": "code",
   "execution_count": null,
   "metadata": {},
   "outputs": [
    {
     "name": "stdout",
     "output_type": "stream",
     "text": [
      "================================\u001b[1m Human Message \u001b[0m=================================\n",
      "\n",
      "Remember my name?\n",
      "==================================\u001b[1m Ai Message \u001b[0m==================================\n",
      "\n",
      "I'm sorry, but I don't have the ability to remember personal information or names from previous interactions. How can I assist you today?\n"
     ]
    }
   ],
   "source": [
    "user_input = \"Remember my name?\"\n",
    "\n",
    "# The only difference is we change the `thread_id` here to \"2\" instead of \"1\"\n",
    "events = graph.stream(\n",
    "    {\"messages\": [(\"user\", user_input)]},\n",
    "    {\"configurable\": {\"thread_id\": \"2\"}},\n",
    "    stream_mode=\"values\",\n",
    ")\n",
    "for event in events:\n",
    "    event[\"messages\"][-1].pretty_print()"
   ]
  },
  {
   "cell_type": "markdown",
   "metadata": {},
   "source": [
    "**Note:** That the only change we've made is to modify the `thread_id` in the config. "
   ]
  },
  {
   "cell_type": "markdown",
   "metadata": {},
   "source": [
    "By now, we have made a few checkpoints across two different threads. But what goes into a checkpoint? \n",
    "\n",
    "\n",
    "To inspect a graph's `state` for a given config at any time, call `get_state(config)`."
   ]
  },
  {
   "cell_type": "code",
   "execution_count": null,
   "metadata": {},
   "outputs": [
    {
     "data": {
      "text/plain": [
       "StateSnapshot(values={'messages': [HumanMessage(content='Hi there! My name is Malik.', additional_kwargs={}, response_metadata={}, id='b3a7d6a2-d164-4f8a-b73a-cc2041aa81ff'), AIMessage(content='', additional_kwargs={}, response_metadata={'model': 'llama3.2', 'created_at': '2024-11-28T20:40:35.264994Z', 'message': {'role': 'assistant', 'content': '', 'tool_calls': [{'function': {'name': 'tavily_search_results_json', 'arguments': {'query': 'information about current events and news'}}}]}, 'done_reason': 'stop', 'done': True, 'total_duration': 3024792250, 'load_duration': 821738500, 'prompt_eval_count': 194, 'prompt_eval_duration': 1909000000, 'eval_count': 26, 'eval_duration': 292000000}, id='run-e7e9b046-fade-464e-a91e-546d14ff8783-0', tool_calls=[{'name': 'tavily_search_results_json', 'args': {'query': 'information about current events and news'}, 'id': '8f822f3e-5c01-487a-9b05-02bd7bc8b6b2', 'type': 'tool_call'}], usage_metadata={'input_tokens': 194, 'output_tokens': 26, 'total_tokens': 220}), ToolMessage(content='[{\"url\": \"https://apnews.com/us-news\", \"content\": \"U.S. News\\\\nBlinken sees goals largely unfulfilled in Mideast trip, even as Israel pledges to protect civilians\\\\nKlete Keller, Olympic gold medalist swimmer, gets 6 months in home detention for Jan. 6 Capitol riot\\\\nBreaches by Iran-affiliated hackers spanned multiple U.S. states, federal agencies say\\\\nReport: Belief death penalty is applied unfairly shows capital punishment’s growing isolation in US\\\\nRetired Justice Sandra Day O’Connor, the first woman on the Supreme Court, has died at 93\\\\nTopics\\\\nAbortion\\\\nCourt pauses federal policy allowing abortion clinic operators to get grants -- but only in Ohio\\\\nMan pleads guilty to 2022 firebombing of Wisconsin anti-abortion office\\\\nWest Virginia places anti-abortion pregnancy center coalition at the helm of $1M grant program\\\\nOpponents gave input on ballot language for abortion-rights measure, Ohio elections chief says\\\\nLGBTQ+\\\\nPolice raid Moscow gay bars after a Supreme Court ruling labeled LGBTQ+ movement ‘extremist’\\\\nIowa court affirms hate crime conviction of man who left anti-gay notes at homes with rainbow flags\\\\nFirst same-sex married couple in Nepal vow to continue campaign for gay rights\\\\nFor a male sexual assault survivor, justice won in court does not equal healing\\\\nShootings\\\\nLas Vegas police search for suspect after 5 homeless people are shot, killing 1\\\\nLos Angeles police searching for suspect in three fatal shootings of homeless people\\\\nA world away from the West Bank, Vermont shooting victims and their families face new grief and fear\\\\nState trooper who fatally shot man at hospital likely prevented more injuries, attorney general says\\\\nImmigration\\\\nUS border officials are closing a remote Arizona crossing because of overwhelming migrant arrivals\\\\nTexas judge rips into Biden administration’s handling of border in dispute over razor wire barrier\\\\nCongress is eying immigration limits as GOP demands border changes in swap for Biden overseas aid\\\\nRepublicans want to pair border security with aid for Ukraine. Here’s why that makes a deal so tough\\\\nMore news\\\\nMassachusetts Republicans stall funding, again, to shelter the homeless and migrants\\\\nDefense head calls out those who advocate isolationism and ‘an American retreat from responsibility’\\\\nFormer prep school teacher going back to prison for incident as camp counselor\\\\nRacist remarks cited before cannabis regulator’s suspension, court documents say\\\\nAlabama woman pleads guilty in 2019 baseball bat beating death of man found in a barrel\\\\nWinter weather in Pacific Northwest cuts power to thousands in Seattle, dumps snow on Cascades\\\\nGroup of swing state Muslims vows to ditch Biden in 2024 over his war stance\\\\nFederal judge tosses lawsuit alleging environmental racism in St. James Parish\\\\nSheriff says Alabama family’s pet ‘wolf-hybrid’ killed their 3-month-old boy\\\\nVermont day care provider convicted of causing infant’s death with doses of antihistamine\\\\nRemington gun factory in operation for nearly 200 years is set to close\\\\nWest Virginia prison inmate indicted on murder charge in missing daughter’s death\\\\nBMW recalls SUVs after Takata air bag inflator blows apart, hurling shrapnel and injuring driver\\\\nSend-offs show Carlton Pearson’s split legacy spurred by his inclusive beliefs, rejection of hell\\\\nTeen girls are being victimized by deepfake nudes. Four are serving today\\\\nUS Navy plans to raise jet plane off Hawaii coral reef using inflatable cylinders\\\\nJudge rejects calls to halt winter construction work on Willow oil project in Alaska during appeal\\\\nUS proposes plan to help the snow-dependent Canada lynx before warming shrinks its habitat\\\\nFormer Colombian military officer accused in base bombing extradited to Florida\\\\nFormer Memphis officer charged in Tyre Nichols’ death had some violations in prior prison guard job\\\\nNew York could see more legal pot shops after state settles cases that halted market\\\\nEx-correctional officer at federal prison in California gets 5 years for sexually abusing inmates\\\\nMan who avoided prosecution as teen in 13-year-old’s killing found guilty of killing father of 2\\\\nJury orders egg suppliers to pay $17.7 million in damages for price gouging in 2000s\\\\nMovie armorer in ‘Rust’ fatal shooting pleads not guilty to unrelated gun charge\\\\nWisconsin Senate Democrats choose Hesselbein as new minority leader\\\\nAging dams in central and western Massachusetts to be removed in $25M project\\\\nCopyright 2023 The Associated Press. One family is pushing for more protections\\\\nCalifornia sheriff’s sergeant recovering after exchanging gunfire with suspect who was killed\\\\nTrump and DeSantis are at dueling campaign events in Iowa with the caucuses just six weeks away\\\\nJustice Sandra Day O’Connor paved a path for women on the Supreme Court. All Rights Reserved.\\\\n\"}, {\"url\": \"https://apnews.com/\", \"content\": \"In a political shift to the far right, anti-Islam populist Geert Wilders wins big in Dutch election\\\\nEurope’s far-right populists buoyed by Wilders’ win in Netherlands, hoping the best is yet to come\\\\nDaniel Noboa is sworn in as Ecuador’s president, inheriting the leadership of a country on edge\\\\nOn the cusp of climate talks, UN chief Guterres visits crucial Antarctica\\\\nBUSINESS\\\\nOpenAI brings back Sam Altman as CEO just days after his firing unleashed chaos\\\\nThis week’s turmoil with ChatGPT-maker OpenAI has heightened trust concerns in the AI world\\\\nTo save the climate, the oil and gas sector must slash planet-warming operations, report says\\\\nArgentina’s labor leaders warn of resistance to President-elect Milei’s radical reforms\\\\nSCIENCE\\\\nPeru lost more than half of its glacier surface in just over half a century, scientists say\\\\nSearch is on for pipeline leak after as much as 1.1 million gallons of oil sullies Gulf of Mexico\\\\nNew hardiness zone map will help US gardeners keep pace with climate change\\\\nSpaceX launched its giant new rocket but explosions end the second test flight\\\\nLIFESTYLE\\\\nEdmunds picks the five best cars for under $30,000\\\\nFrance remains ‘le grand fromage’ in the European Union, and Camembert remains in a wooden box\\\\nHow to avoid the worst 4 hours of holiday travel\\\\nGet ahead this Thanksgiving by setting the table a day or two early\\\\nNow Playing\\\\nMovie Review: Emerald Fennell chronicles a promising young man in audacious, shock-filled ‘Saltburn’\\\\nMovie Review: Disney’s musical fairy tale ‘Wish’ is beautiful, but lacking magic\\\\nMovie Review: ‘Fallen Leaves’ is deadpan nirvana\\\\nReview: In Ridley Scott’s ‘Napoleon,’ the emperor has no clothes but plenty of ego\\\\nMovie Review: Emotional complexity, melodramatic wit and masterful acting in ‘May December’\\\\nMovie Review: Taika Waititi’s ‘Next Goal Wins’ is a sweet, frothy diversion but no knee slide\\\\nReview: The Hunger Games return in ‘The Ballad of Songbirds and Snakes,’ with the odds in its favor\\\\nMovie Review: Nicolas Cage finds fame to be highly overrated in chillingly funny ‘Dream Scenario’\\\\nMovie Review: Iman Vellani is a scene-stealer in low-stakes ‘The Marvels’\\\\nMovie Review: In David Fincher’s ‘The Killer,’ an assassin hides in plain sight\\\\nThe Protein Problem\\\\nHow ‘lab-grown’ meat cultivated from animal cells could offer another sustainable food option\\\\nPlant-based products haven’t converted US meat-eaters. The US has thwarted a plot to kill a Sikh separatist leader, an AP source says\\\\nNearly half of Americans think the US is spending too much on Ukraine aid, an AP-NORC poll says\\\\nBiden’s plan would raise salaries for Head Start teachers but could leave fewer spots for kids\\\\nEntertainment\\\\nThe ‘Oppenheimer’ creative team take you behind the scenes of the film’s key moments\\\\nWhat’s streaming now: ‘Oppenheimer,’ Adam Sandler as a lizard and celebs dancing to Taylor Swift\\\\nFill your holiday stocking with Cher, Ella Fitzgerald, Brandy, Andrea Bocelli and more\\\\nStudent Academy Awards — a launching pad into Hollywood — celebrate 50 years\\\\nSPORTS\\\\nBland, Prescott help Cowboys to 13th straight home win over Commanders on Thanksgiving\\\\nBlackhawks’ Taylor Hall is expected to miss the rest of the season with a right knee injury\\\\nLSU star Angel Reese has not been seen with the Tigers in the Cayman Islands\\\\nEddie Merrins, the ‘Little Pro’ who had an enormous influence on golf in LA, dies at 91\\\\nUS News\\\\nResidents of Kentucky town can return home after crews extinguish derailment fire\\\\nOfficials begin clearing debris while 3 remain missing in Alaska landslide that left 3 dead\\\\nOxyContin maker’s settlement plan divides victims of opioid crisis. When the battles stop, many fear it will remain uninhabitable\\\\nHundreds of German police raid properties of Hamas supporters in Berlin and across the country\\\\nHow the hostage deal came about: Negotiations stumbled, but persistence finally won out\\\\nPortraits of those held hostage after Hamas attack on Israel\\\\nDutch election winner Geert Wilders is an anti-Islam firebrand known as the Dutch Donald Trump\\\\nWoman alleges Jamie Foxx sexually assaulted her at New York bar, actor says it ‘never happened’\\\\nFBI ends investigation of car wreck at Niagara Falls bridge, no indication of terrorism\\\\nRetailers are ready to kick off Black Friday just as shoppers pull back on spending\\\\nMacy’s Thanksgiving Day Parade sends Snoopy and SpongeBob soaring as Cher entertains NYC\\\\nViolent clashes break out in Dublin after knife attack that injured 3 children, one seriously\\\\nNicaragua’s Miss Universe title win exposes deep political divide in the Central American country\\\\nSusan Sarandon and Melissa Barrera dropped from Hollywood companies after comments on Israel-Hamas war\\\\nSeveral more children sickened by fruit pouches tainted with lead, FDA says\\\\nLatest videos\\\\nPhiladelphia marks Thanksgiving with parade\\\\nPhiladelphia held its annual Thanksgiving Day parade on Thursday. Florida Atlantic defeats Butler 91-86\\\\nBroncos nickel back Ja’Quan McMillian is making a name for himself even if it’s being mispronounced\\\\nSt. Rose scores 26, Princeton rolls to a 77-63 win over No. 22 Oklahoma women in Florida\\\\nFormer St. Louis alderman in fraud case also charged with lying to police\\\\nBrazilian police bust international drug mule ring in Sao Paulo\\\\nNorris scores 20, Loyola Chicago closes on 14-2 run to beat Boston College 71-68\\\\nBusiness Highlights: Retailers prepare for Black Friday; world stocks mixed\\\\nNew Mexico Supreme Court reprimands judge who advised prosecutors in case involving his daughter\\\\nNo. 3 Colorado holds off Cincinnati 77-60 to open Paradise Jam tournament\\\\nThursday’s Transactions\\\\nIsaacs banks in go-ahead shot with 0.8 seconds left and Texas Tech beats UNI in Battle 4 Atlantis\\\\nColeman has 24 points, No. 12 Texas A&M beats Penn State 89-77 in ESPN Events Invitational\\\\nWest Africa responds to huge diphtheria outbreaks by targeting unvaccinated populations\\\\n This rancher thinks she can change that\\\\nWhat pastoralists in Senegal and Mongolia can teach us about adapting to a changing environment\\\\nSaving Brazil’s rainforest starts with helping people and businesses make a living off cleared land\\\\nMore from the project\\\\nGardening\\\\nA dozen fresh-picked holiday gift ideas for gardeners\\\\nIf it seems like there are a lot of acorns this fall, you might be seeing a ‘mast’ year\\\\nA slow transition to winter keeps houseplants healthy\\\\nThere’s a movement to ‘leave the leaves’ in gardens and lawns.\"}]', name='tavily_search_results_json', id='6bdb1f08-6115-4434-8bc5-74f08d6b5170', tool_call_id='8f822f3e-5c01-487a-9b05-02bd7bc8b6b2', artifact={'query': 'information about current events and news', 'follow_up_questions': None, 'answer': None, 'images': [], 'results': [{'title': 'U.S. News: Top U.S. News Today | AP News - Associated Press News', 'url': 'https://apnews.com/us-news', 'content': 'U.S. News\\nBlinken sees goals largely unfulfilled in Mideast trip, even as Israel pledges to protect civilians\\nKlete Keller, Olympic gold medalist swimmer, gets 6 months in home detention for Jan. 6 Capitol riot\\nBreaches by Iran-affiliated hackers spanned multiple U.S. states, federal agencies say\\nReport: Belief death penalty is applied unfairly shows capital punishment’s growing isolation in US\\nRetired Justice Sandra Day O’Connor, the first woman on the Supreme Court, has died at 93\\nTopics\\nAbortion\\nCourt pauses federal policy allowing abortion clinic operators to get grants -- but only in Ohio\\nMan pleads guilty to 2022 firebombing of Wisconsin anti-abortion office\\nWest Virginia places anti-abortion pregnancy center coalition at the helm of $1M grant program\\nOpponents gave input on ballot language for abortion-rights measure, Ohio elections chief says\\nLGBTQ+\\nPolice raid Moscow gay bars after a Supreme Court ruling labeled LGBTQ+ movement ‘extremist’\\nIowa court affirms hate crime conviction of man who left anti-gay notes at homes with rainbow flags\\nFirst same-sex married couple in Nepal vow to continue campaign for gay rights\\nFor a male sexual assault survivor, justice won in court does not equal healing\\nShootings\\nLas Vegas police search for suspect after 5 homeless people are shot, killing 1\\nLos Angeles police searching for suspect in three fatal shootings of homeless people\\nA world away from the West Bank, Vermont shooting victims and their families face new grief and fear\\nState trooper who fatally shot man at hospital likely prevented more injuries, attorney general says\\nImmigration\\nUS border officials are closing a remote Arizona crossing because of overwhelming migrant arrivals\\nTexas judge rips into Biden administration’s handling of border in dispute over razor wire barrier\\nCongress is eying immigration limits as GOP demands border changes in swap for Biden overseas aid\\nRepublicans want to pair border security with aid for Ukraine. Here’s why that makes a deal so tough\\nMore news\\nMassachusetts Republicans stall funding, again, to shelter the homeless and migrants\\nDefense head calls out those who advocate isolationism and ‘an American retreat from responsibility’\\nFormer prep school teacher going back to prison for incident as camp counselor\\nRacist remarks cited before cannabis regulator’s suspension, court documents say\\nAlabama woman pleads guilty in 2019 baseball bat beating death of man found in a barrel\\nWinter weather in Pacific Northwest cuts power to thousands in Seattle, dumps snow on Cascades\\nGroup of swing state Muslims vows to ditch Biden in 2024 over his war stance\\nFederal judge tosses lawsuit alleging environmental racism in St. James Parish\\nSheriff says Alabama family’s pet ‘wolf-hybrid’ killed their 3-month-old boy\\nVermont day care provider convicted of causing infant’s death with doses of antihistamine\\nRemington gun factory in operation for nearly 200 years is set to close\\nWest Virginia prison inmate indicted on murder charge in missing daughter’s death\\nBMW recalls SUVs after Takata air bag inflator blows apart, hurling shrapnel and injuring driver\\nSend-offs show Carlton Pearson’s split legacy spurred by his inclusive beliefs, rejection of hell\\nTeen girls are being victimized by deepfake nudes. Four are serving today\\nUS Navy plans to raise jet plane off Hawaii coral reef using inflatable cylinders\\nJudge rejects calls to halt winter construction work on Willow oil project in Alaska during appeal\\nUS proposes plan to help the snow-dependent Canada lynx before warming shrinks its habitat\\nFormer Colombian military officer accused in base bombing extradited to Florida\\nFormer Memphis officer charged in Tyre Nichols’ death had some violations in prior prison guard job\\nNew York could see more legal pot shops after state settles cases that halted market\\nEx-correctional officer at federal prison in California gets 5 years for sexually abusing inmates\\nMan who avoided prosecution as teen in 13-year-old’s killing found guilty of killing father of 2\\nJury orders egg suppliers to pay $17.7 million in damages for price gouging in 2000s\\nMovie armorer in ‘Rust’ fatal shooting pleads not guilty to unrelated gun charge\\nWisconsin Senate Democrats choose Hesselbein as new minority leader\\nAging dams in central and western Massachusetts to be removed in $25M project\\nCopyright 2023 The Associated Press. One family is pushing for more protections\\nCalifornia sheriff’s sergeant recovering after exchanging gunfire with suspect who was killed\\nTrump and DeSantis are at dueling campaign events in Iowa with the caucuses just six weeks away\\nJustice Sandra Day O’Connor paved a path for women on the Supreme Court. All Rights Reserved.\\n', 'score': 0.4055076, 'raw_content': None}, {'title': 'Associated Press News: Breaking News, Latest Headlines and Videos | AP News', 'url': 'https://apnews.com/', 'content': 'In a political shift to the far right, anti-Islam populist Geert Wilders wins big in Dutch election\\nEurope’s far-right populists buoyed by Wilders’ win in Netherlands, hoping the best is yet to come\\nDaniel Noboa is sworn in as Ecuador’s president, inheriting the leadership of a country on edge\\nOn the cusp of climate talks, UN chief Guterres visits crucial Antarctica\\nBUSINESS\\nOpenAI brings back Sam Altman as CEO just days after his firing unleashed chaos\\nThis week’s turmoil with ChatGPT-maker OpenAI has heightened trust concerns in the AI world\\nTo save the climate, the oil and gas sector must slash planet-warming operations, report says\\nArgentina’s labor leaders warn of resistance to President-elect Milei’s radical reforms\\nSCIENCE\\nPeru lost more than half of its glacier surface in just over half a century, scientists say\\nSearch is on for pipeline leak after as much as 1.1 million gallons of oil sullies Gulf of Mexico\\nNew hardiness zone map will help US gardeners keep pace with climate change\\nSpaceX launched its giant new rocket but explosions end the second test flight\\nLIFESTYLE\\nEdmunds picks the five best cars for under $30,000\\nFrance remains ‘le grand fromage’ in the European Union, and Camembert remains in a wooden box\\nHow to avoid the worst 4 hours of holiday travel\\nGet ahead this Thanksgiving by setting the table a day or two early\\nNow Playing\\nMovie Review: Emerald Fennell chronicles a promising young man in audacious, shock-filled ‘Saltburn’\\nMovie Review: Disney’s musical fairy tale ‘Wish’ is beautiful, but lacking magic\\nMovie Review: ‘Fallen Leaves’ is deadpan nirvana\\nReview: In Ridley Scott’s ‘Napoleon,’ the emperor has no clothes but plenty of ego\\nMovie Review: Emotional complexity, melodramatic wit and masterful acting in ‘May December’\\nMovie Review: Taika Waititi’s ‘Next Goal Wins’ is a sweet, frothy diversion but no knee slide\\nReview: The Hunger Games return in ‘The Ballad of Songbirds and Snakes,’ with the odds in its favor\\nMovie Review: Nicolas Cage finds fame to be highly overrated in chillingly funny ‘Dream Scenario’\\nMovie Review: Iman Vellani is a scene-stealer in low-stakes ‘The Marvels’\\nMovie Review: In David Fincher’s ‘The Killer,’ an assassin hides in plain sight\\nThe Protein Problem\\nHow ‘lab-grown’ meat cultivated from animal cells could offer another sustainable food option\\nPlant-based products haven’t converted US meat-eaters. The US has thwarted a plot to kill a Sikh separatist leader, an AP source says\\nNearly half of Americans think the US is spending too much on Ukraine aid, an AP-NORC poll says\\nBiden’s plan would raise salaries for Head Start teachers but could leave fewer spots for kids\\nEntertainment\\nThe ‘Oppenheimer’ creative team take you behind the scenes of the film’s key moments\\nWhat’s streaming now: ‘Oppenheimer,’ Adam Sandler as a lizard and celebs dancing to Taylor Swift\\nFill your holiday stocking with Cher, Ella Fitzgerald, Brandy, Andrea Bocelli and more\\nStudent Academy Awards — a launching pad into Hollywood — celebrate 50 years\\nSPORTS\\nBland, Prescott help Cowboys to 13th straight home win over Commanders on Thanksgiving\\nBlackhawks’ Taylor Hall is expected to miss the rest of the season with a right knee injury\\nLSU star Angel Reese has not been seen with the Tigers in the Cayman Islands\\nEddie Merrins, the ‘Little Pro’ who had an enormous influence on golf in LA, dies at 91\\nUS News\\nResidents of Kentucky town can return home after crews extinguish derailment fire\\nOfficials begin clearing debris while 3 remain missing in Alaska landslide that left 3 dead\\nOxyContin maker’s settlement plan divides victims of opioid crisis. When the battles stop, many fear it will remain uninhabitable\\nHundreds of German police raid properties of Hamas supporters in Berlin and across the country\\nHow the hostage deal came about: Negotiations stumbled, but persistence finally won out\\nPortraits of those held hostage after Hamas attack on Israel\\nDutch election winner Geert Wilders is an anti-Islam firebrand known as the Dutch Donald Trump\\nWoman alleges Jamie Foxx sexually assaulted her at New York bar, actor says it ‘never happened’\\nFBI ends investigation of car wreck at Niagara Falls bridge, no indication of terrorism\\nRetailers are ready to kick off Black Friday just as shoppers pull back on spending\\nMacy’s Thanksgiving Day Parade sends Snoopy and SpongeBob soaring as Cher entertains NYC\\nViolent clashes break out in Dublin after knife attack that injured 3 children, one seriously\\nNicaragua’s Miss Universe title win exposes deep political divide in the Central American country\\nSusan Sarandon and Melissa Barrera dropped from Hollywood companies after comments on Israel-Hamas war\\nSeveral more children sickened by fruit pouches tainted with lead, FDA says\\nLatest videos\\nPhiladelphia marks Thanksgiving with parade\\nPhiladelphia held its annual Thanksgiving Day parade on Thursday. Florida Atlantic defeats Butler 91-86\\nBroncos nickel back Ja’Quan McMillian is making a name for himself even if it’s being mispronounced\\nSt. Rose scores 26, Princeton rolls to a 77-63 win over No. 22 Oklahoma women in Florida\\nFormer St. Louis alderman in fraud case also charged with lying to police\\nBrazilian police bust international drug mule ring in Sao Paulo\\nNorris scores 20, Loyola Chicago closes on 14-2 run to beat Boston College 71-68\\nBusiness Highlights: Retailers prepare for Black Friday; world stocks mixed\\nNew Mexico Supreme Court reprimands judge who advised prosecutors in case involving his daughter\\nNo. 3 Colorado holds off Cincinnati 77-60 to open Paradise Jam tournament\\nThursday’s Transactions\\nIsaacs banks in go-ahead shot with 0.8 seconds left and Texas Tech beats UNI in Battle 4 Atlantis\\nColeman has 24 points, No. 12 Texas A&M beats Penn State 89-77 in ESPN Events Invitational\\nWest Africa responds to huge diphtheria outbreaks by targeting unvaccinated populations\\n This rancher thinks she can change that\\nWhat pastoralists in Senegal and Mongolia can teach us about adapting to a changing environment\\nSaving Brazil’s rainforest starts with helping people and businesses make a living off cleared land\\nMore from the project\\nGardening\\nA dozen fresh-picked holiday gift ideas for gardeners\\nIf it seems like there are a lot of acorns this fall, you might be seeing a ‘mast’ year\\nA slow transition to winter keeps houseplants healthy\\nThere’s a movement to ‘leave the leaves’ in gardens and lawns.', 'score': 0.34786937, 'raw_content': None}], 'response_time': 1.41}), AIMessage(content=\"This appears to be a list of news articles from various sources, including AP News. The articles cover a wide range of topics, including politics, business, science, lifestyle, and sports.\\n\\nIf you'd like, I can help you summarize or categorize the articles or provide more information about any specific article that interests you. Please let me know how I can assist you!\", additional_kwargs={}, response_metadata={'model': 'llama3.2', 'created_at': '2024-11-28T20:40:41.144668Z', 'message': {'role': 'assistant', 'content': \"This appears to be a list of news articles from various sources, including AP News. The articles cover a wide range of topics, including politics, business, science, lifestyle, and sports.\\n\\nIf you'd like, I can help you summarize or categorize the articles or provide more information about any specific article that interests you. Please let me know how I can assist you!\"}, 'done_reason': 'stop', 'done': True, 'total_duration': 3546449584, 'load_duration': 26600792, 'prompt_eval_count': 2496, 'prompt_eval_duration': 2128000000, 'eval_count': 76, 'eval_duration': 1061000000}, id='run-bc27c50f-568e-4c52-8f26-fce02baa0fe8-0', usage_metadata={'input_tokens': 2496, 'output_tokens': 76, 'total_tokens': 2572}), HumanMessage(content='Remember my name?', additional_kwargs={}, response_metadata={}, id='16e09f1f-2f7d-4ae3-ae70-b966398dcf4f'), AIMessage(content='', additional_kwargs={}, response_metadata={'model': 'llama3.2', 'created_at': '2024-11-28T20:42:23.286214Z', 'message': {'role': 'assistant', 'content': '', 'tool_calls': [{'function': {'name': 'tavily_search_results_json', 'arguments': {'query': 'What is the name of AI assistant?'}}}]}, 'done_reason': 'stop', 'done': True, 'total_duration': 736839875, 'load_duration': 27045875, 'prompt_eval_count': 270, 'prompt_eval_duration': 389000000, 'eval_count': 28, 'eval_duration': 311000000}, id='run-b19efb77-c5ac-43ce-9da6-a6dc22e728a3-0', tool_calls=[{'name': 'tavily_search_results_json', 'args': {'query': 'What is the name of AI assistant?'}, 'id': 'f1eb75d7-880b-4331-9045-43ea9c7290a6', 'type': 'tool_call'}], usage_metadata={'input_tokens': 270, 'output_tokens': 28, 'total_tokens': 298}), ToolMessage(content='[{\"url\": \"https://www.inverse.com/tech/ai-chatbots-ranked-chatgpt-grok-copilot-claude-meta-ai-perplexity-arc-search\", \"content\": \"Meta\\'s AI assistant, Meta AI, is broadly comparable to what Copilot and Gemini are capable of. It can generate images, answer questions, and create text about general information, but its\"}, {\"url\": \"https://www.usemotion.com/blog/ai-personal-assistants\", \"content\": \"For the purpose of this article, I defined an AI personal assistant as a tool that utilizes AI to help you with day-to-day task management, home needs, research, and scheduling. Motion - Best for intelligent task scheduling and team collaboration Now that we’ve reviewed the best AI personal assistants for your work needs, it’s time to take it back to the original AI personal assistants that you use in your home. Motion evaluates my team members’ schedule, personal commitments, and priorities to schedule the take at a time that actually works best.\"}]', name='tavily_search_results_json', id='1fc864c2-8ccf-407d-a149-8d4fdc1e2862', tool_call_id='f1eb75d7-880b-4331-9045-43ea9c7290a6', artifact={'query': 'What is the name of AI assistant?', 'follow_up_questions': None, 'answer': None, 'images': [], 'results': [{'title': '7 of the Most Popular AI Chatbots, Ranked From Worst to Best - Inverse', 'url': 'https://www.inverse.com/tech/ai-chatbots-ranked-chatgpt-grok-copilot-claude-meta-ai-perplexity-arc-search', 'content': \"Meta's AI assistant, Meta AI, is broadly comparable to what Copilot and Gemini are capable of. It can generate images, answer questions, and create text about general information, but its\", 'score': 0.9714559, 'raw_content': None}, {'title': 'I Tested 10+ AI Personal Assistants. Here Are the Best in 2024', 'url': 'https://www.usemotion.com/blog/ai-personal-assistants', 'content': 'For the purpose of this article, I defined an AI personal assistant as a tool that utilizes AI to help you with day-to-day task management, home needs, research, and scheduling. Motion - Best for intelligent task scheduling and team collaboration Now that we’ve reviewed the best AI personal assistants for your work needs, it’s time to take it back to the original AI personal assistants that you use in your home. Motion evaluates my team members’ schedule, personal commitments, and priorities to schedule the take at a time that actually works best.', 'score': 0.8576489, 'raw_content': None}], 'response_time': 1.37}), AIMessage(content='Based on our previous conversation, I believe your name is \"tavily\". Am I correct? If so, I\\'d be happy to assist you with any questions or topics you\\'d like to discuss!', additional_kwargs={}, response_metadata={'model': 'llama3.2', 'created_at': '2024-11-28T20:42:26.419317Z', 'message': {'role': 'assistant', 'content': 'Based on our previous conversation, I believe your name is \"tavily\". Am I correct? If so, I\\'d be happy to assist you with any questions or topics you\\'d like to discuss!'}, 'done_reason': 'stop', 'done': True, 'total_duration': 885658667, 'load_duration': 26599209, 'prompt_eval_count': 390, 'prompt_eval_duration': 352000000, 'eval_count': 42, 'eval_duration': 499000000}, id='run-f03251f6-89a9-4fb9-9bad-98a3bd7d81f7-0', usage_metadata={'input_tokens': 390, 'output_tokens': 42, 'total_tokens': 432}), HumanMessage(content='Hi there! My name is Malik.', additional_kwargs={}, response_metadata={}, id='2087f098-36a0-4988-a479-931ffcaa84b4'), AIMessage(content=\"Hi Malik! It's great to meet you. How can I assist you today?\", additional_kwargs={'refusal': None}, response_metadata={'token_usage': {'completion_tokens': 17, 'prompt_tokens': 2933, 'total_tokens': 2950, 'completion_tokens_details': {'accepted_prediction_tokens': 0, 'audio_tokens': 0, 'reasoning_tokens': 0, 'rejected_prediction_tokens': 0}, 'prompt_tokens_details': {'audio_tokens': 0, 'cached_tokens': 0}}, 'model_name': 'gpt-4o-mini-2024-07-18', 'system_fingerprint': 'fp_3de1288069', 'finish_reason': 'stop', 'logprobs': None}, id='run-16b128e1-0185-48f1-a5e8-4b07dfb75537-0', usage_metadata={'input_tokens': 2933, 'output_tokens': 17, 'total_tokens': 2950, 'input_token_details': {'audio': 0, 'cache_read': 0}, 'output_token_details': {'audio': 0, 'reasoning': 0}}), HumanMessage(content='Remember my name?', additional_kwargs={}, response_metadata={}, id='510e5936-6376-4b48-ba5c-f08b9d5260c0'), AIMessage(content='Yes, your name is Malik! How can I assist you today, Malik?', additional_kwargs={'refusal': None}, response_metadata={'token_usage': {'completion_tokens': 17, 'prompt_tokens': 2961, 'total_tokens': 2978, 'completion_tokens_details': {'accepted_prediction_tokens': 0, 'audio_tokens': 0, 'reasoning_tokens': 0, 'rejected_prediction_tokens': 0}, 'prompt_tokens_details': {'audio_tokens': 0, 'cached_tokens': 2816}}, 'model_name': 'gpt-4o-mini-2024-07-18', 'system_fingerprint': 'fp_3de1288069', 'finish_reason': 'stop', 'logprobs': None}, id='run-63f2ce90-614c-448f-a78d-cb812d655a48-0', usage_metadata={'input_tokens': 2961, 'output_tokens': 17, 'total_tokens': 2978, 'input_token_details': {'audio': 0, 'cache_read': 2816}, 'output_token_details': {'audio': 0, 'reasoning': 0}})]}, next=(), config={'configurable': {'thread_id': '1', 'checkpoint_ns': '', 'checkpoint_id': '1efadc99-9bf4-6ff8-800e-22b6cdbed92b'}}, metadata={'source': 'loop', 'writes': {'chatbot': {'messages': [AIMessage(content='Yes, your name is Malik! How can I assist you today, Malik?', additional_kwargs={'refusal': None}, response_metadata={'token_usage': {'completion_tokens': 17, 'prompt_tokens': 2961, 'total_tokens': 2978, 'completion_tokens_details': {'accepted_prediction_tokens': 0, 'audio_tokens': 0, 'reasoning_tokens': 0, 'rejected_prediction_tokens': 0}, 'prompt_tokens_details': {'audio_tokens': 0, 'cached_tokens': 2816}}, 'model_name': 'gpt-4o-mini-2024-07-18', 'system_fingerprint': 'fp_3de1288069', 'finish_reason': 'stop', 'logprobs': None}, id='run-63f2ce90-614c-448f-a78d-cb812d655a48-0', usage_metadata={'input_tokens': 2961, 'output_tokens': 17, 'total_tokens': 2978, 'input_token_details': {'audio': 0, 'cache_read': 2816}, 'output_token_details': {'audio': 0, 'reasoning': 0}})]}}, 'thread_id': '1', 'step': 14, 'parents': {}}, created_at='2024-11-28T20:44:45.125810+00:00', parent_config={'configurable': {'thread_id': '1', 'checkpoint_ns': '', 'checkpoint_id': '1efadc99-91ac-68de-800d-a8e8211aa455'}}, tasks=())"
      ]
     },
     "metadata": {},
     "output_type": "display_data"
    }
   ],
   "source": [
    "snapshot = graph.get_state(config)\n",
    "snapshot"
   ]
  },
  {
   "cell_type": "code",
   "execution_count": null,
   "metadata": {},
   "outputs": [
    {
     "data": {
      "text/plain": [
       "()"
      ]
     },
     "metadata": {},
     "output_type": "display_data"
    }
   ],
   "source": [
    "snapshot.next  # (since the graph ended this turn, `next` is empty. If you fetch a state from within a graph invocation, next tells which node will execute next)"
   ]
  },
  {
   "cell_type": "markdown",
   "metadata": {},
   "source": [
    "The snapshot above contains the current state values, corresponding config, and the next node to process. In our case, the graph has reached an END state, so next is empty."
   ]
  },
  {
   "cell_type": "code",
   "execution_count": null,
   "metadata": {},
   "outputs": [
    {
     "data": {
      "text/plain": [
       "StateSnapshot(values={'messages': [HumanMessage(content='Remember my name?', additional_kwargs={}, response_metadata={}, id='f23bf930-299d-4f6e-9e00-2b4df62e3a51'), AIMessage(content=\"I'm sorry, but I don't have the ability to remember personal information or names from previous interactions. How can I assist you today?\", additional_kwargs={'refusal': None}, response_metadata={'token_usage': {'completion_tokens': 27, 'prompt_tokens': 83, 'total_tokens': 110, 'completion_tokens_details': {'accepted_prediction_tokens': 0, 'audio_tokens': 0, 'reasoning_tokens': 0, 'rejected_prediction_tokens': 0}, 'prompt_tokens_details': {'audio_tokens': 0, 'cached_tokens': 0}}, 'model_name': 'gpt-4o-mini-2024-07-18', 'system_fingerprint': 'fp_0705bf87c0', 'finish_reason': 'stop', 'logprobs': None}, id='run-542327d4-1798-4a46-a421-049951b12080-0', usage_metadata={'input_tokens': 83, 'output_tokens': 27, 'total_tokens': 110, 'input_token_details': {'audio': 0, 'cache_read': 0}, 'output_token_details': {'audio': 0, 'reasoning': 0}})]}, next=(), config={'configurable': {'thread_id': '2', 'checkpoint_ns': '', 'checkpoint_id': '1efadc9d-f1b8-681e-8001-af0f2b130a4a'}}, metadata={'source': 'loop', 'writes': {'chatbot': {'messages': [AIMessage(content=\"I'm sorry, but I don't have the ability to remember personal information or names from previous interactions. How can I assist you today?\", additional_kwargs={'refusal': None}, response_metadata={'token_usage': {'completion_tokens': 27, 'prompt_tokens': 83, 'total_tokens': 110, 'completion_tokens_details': {'accepted_prediction_tokens': 0, 'audio_tokens': 0, 'reasoning_tokens': 0, 'rejected_prediction_tokens': 0}, 'prompt_tokens_details': {'audio_tokens': 0, 'cached_tokens': 0}}, 'model_name': 'gpt-4o-mini-2024-07-18', 'system_fingerprint': 'fp_0705bf87c0', 'finish_reason': 'stop', 'logprobs': None}, id='run-542327d4-1798-4a46-a421-049951b12080-0', usage_metadata={'input_tokens': 83, 'output_tokens': 27, 'total_tokens': 110, 'input_token_details': {'audio': 0, 'cache_read': 0}, 'output_token_details': {'audio': 0, 'reasoning': 0}})]}}, 'thread_id': '2', 'step': 1, 'parents': {}}, created_at='2024-11-28T20:46:41.492978+00:00', parent_config={'configurable': {'thread_id': '2', 'checkpoint_ns': '', 'checkpoint_id': '1efadc9d-e454-63d0-8000-aa38f1e423b0'}}, tasks=())"
      ]
     },
     "metadata": {},
     "output_type": "display_data"
    }
   ],
   "source": [
    "config = {\"configurable\": {\"thread_id\": \"2\"}}\n",
    "snapshot = graph.get_state(config)\n",
    "snapshot"
   ]
  },
  {
   "cell_type": "code",
   "execution_count": null,
   "metadata": {},
   "outputs": [
    {
     "data": {
      "text/plain": [
       "()"
      ]
     },
     "metadata": {},
     "output_type": "display_data"
    }
   ],
   "source": [
    "snapshot.next"
   ]
  },
  {
   "cell_type": "markdown",
   "metadata": {},
   "source": [
    "In the next part, we'll introduce human oversight to our bot to handle situations where it may need guidance or verification before proceeding."
   ]
  }
 ],
 "metadata": {
  "language_info": {
   "name": "python"
  }
 },
 "nbformat": 4,
 "nbformat_minor": 2
}
