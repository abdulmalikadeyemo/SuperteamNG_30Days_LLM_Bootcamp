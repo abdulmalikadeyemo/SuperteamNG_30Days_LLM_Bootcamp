{
 "cells": [
  {
   "cell_type": "markdown",
   "metadata": {},
   "source": [
    "# **Intro to Langraph**"
   ]
  },
  {
   "cell_type": "markdown",
   "metadata": {},
   "source": [
    "### **Overview**\n",
    "\n",
    "LangGraph is a library for building stateful, multi-actor applications with LLMs, used to create agent and multi-agent workflows.\n",
    "\n",
    "\n",
    "#### **Key Features**\n",
    "\n",
    "- **Cycles and Branching:** Implement loops and conditionals in your apps.\n",
    "- **Persistence:** Automatically save state after each step in the graph. Pause and resume the graph execution at any point to support error recovery, human-in-the-loop workflows, time travel and more.\n",
    "- **Human-in-the-Loop:** Interrupt graph execution to approve or edit next action planned by the agent.\n",
    "- **Streaming Support:** Stream outputs as they are produced by each node (including token streaming)."
   ]
  },
  {
   "cell_type": "markdown",
   "metadata": {},
   "source": [
    "**Next, add a `\"chatbot\"` node.**\n",
    "\n",
    "Nodes represent units of work. \n",
    "\n",
    "They are typically regular python functions."
   ]
  },
  {
   "cell_type": "markdown",
   "metadata": {},
   "source": [
    "## Let's Build Something!\n",
    "\n",
    "Here, we will build a chatbot in LangGraph that can:\n",
    "\n",
    "✅ Answer common questions by searching the web\n",
    "\n",
    "✅ Maintain conversation state across calls\n",
    "\n",
    "✅ Route complex queries to a human for review\n",
    "\n",
    "✅ Use custom state to control its behavior\n",
    "\n",
    "✅ Rewind and explore alternative conversation paths\n",
    "\n",
    "\n",
    "We'll start with a basic chatbot and progressively add more sophisticated capabilities, introducing key LangGraph concepts along the way. \n",
    "\n",
    "\n",
    "**Let’s dive in!** 🌟"
   ]
  },
  {
   "cell_type": "markdown",
   "metadata": {},
   "source": [
    "## Setup Ollama"
   ]
  },
  {
   "cell_type": "code",
   "execution_count": null,
   "metadata": {},
   "outputs": [
    {
     "data": {
      "text/plain": [
       "'...Neil Armstrong. He stepped onto the lunar surface on July 20, 1969, during the Apollo 11 mission.'"
      ]
     },
     "metadata": {},
     "output_type": "display_data"
    }
   ],
   "source": [
    "from langchain_ollama import OllamaLLM\n",
    "\n",
    "llm = OllamaLLM(model=\"llama3.2\")\n",
    "\n",
    "llm.invoke(\"The first man on the moon was ...\")"
   ]
  },
  {
   "cell_type": "code",
   "execution_count": null,
   "metadata": {},
   "outputs": [
    {
     "data": {
      "text/plain": [
       "AIMessage(content='Neil Armstrong was the first man to set foot on the moon. He stepped out of the lunar module Eagle and onto the moon\\'s surface on July 20, 1969, during the Apollo 11 mission. Armstrong famously declared, \"That\\'s one small step for man, one giant leap for mankind,\" as he became the first person to walk on the moon.', additional_kwargs={}, response_metadata={'model': 'llama3.2', 'created_at': '2024-11-26T20:37:37.205426Z', 'message': {'role': 'assistant', 'content': ''}, 'done_reason': 'stop', 'done': True, 'total_duration': 1075182459, 'load_duration': 29646250, 'prompt_eval_count': 34, 'prompt_eval_duration': 190000000, 'eval_count': 75, 'eval_duration': 854000000}, id='run-c556c8d4-8c1a-4525-bf35-38f57c47de3f-0', usage_metadata={'input_tokens': 34, 'output_tokens': 75, 'total_tokens': 109})"
      ]
     },
     "metadata": {},
     "output_type": "display_data"
    }
   ],
   "source": [
    "from langchain_ollama import ChatOllama\n",
    "\n",
    "chat_model = ChatOllama(model=\"llama3.2\")\n",
    "\n",
    "chat_model.invoke(\"Who was the first man on the moon?\")"
   ]
  },
  {
   "cell_type": "code",
   "execution_count": null,
   "metadata": {},
   "outputs": [
    {
     "data": {
      "text/plain": [
       "'The first man to walk on the Moon was Neil Armstrong. He stepped out of the lunar module Eagle and onto the Moon\\'s surface on July 20, 1969, during the Apollo 11 mission. His famous words upon setting foot on the Moon were: \"That\\'s one small step for man, one giant leap for mankind.\"'"
      ]
     },
     "metadata": {},
     "output_type": "display_data"
    }
   ],
   "source": [
    "response = chat_model.invoke(\"Who was the first man on the moon?\")\n",
    "\n",
    "response.content"
   ]
  },
  {
   "cell_type": "code",
   "execution_count": null,
   "metadata": {},
   "outputs": [
    {
     "data": {
      "text/plain": [
       "{'input_tokens': 34, 'output_tokens': 69, 'total_tokens': 103}"
      ]
     },
     "metadata": {},
     "output_type": "display_data"
    }
   ],
   "source": [
    "response.usage_metadata"
   ]
  },
  {
   "cell_type": "code",
   "execution_count": null,
   "metadata": {},
   "outputs": [
    {
     "data": {
      "text/plain": [
       "AIMessage(content='...Neil Armstrong. He stepped out of the lunar module Eagle and onto the Moon\\'s surface on July 20, 1969, during the Apollo 11 mission. His famous words upon setting foot on the Moon were: \"That\\'s one small step for man, one giant leap for mankind.\"', additional_kwargs={}, response_metadata={'model': 'llama3.2', 'created_at': '2024-11-18T06:06:14.198208Z', 'message': {'role': 'assistant', 'content': ''}, 'done_reason': 'stop', 'done': True, 'total_duration': 922350250, 'load_duration': 34709167, 'prompt_eval_count': 33, 'prompt_eval_duration': 231000000, 'eval_count': 61, 'eval_duration': 655000000}, id='run-b8381199-11f0-4eef-964e-a7f31982be2b-0', usage_metadata={'input_tokens': 33, 'output_tokens': 61, 'total_tokens': 94})"
      ]
     },
     "metadata": {},
     "output_type": "display_data"
    }
   ],
   "source": [
    "chat_model.invoke(\"The first man on the moon was ...\")"
   ]
  },
  {
   "cell_type": "markdown",
   "metadata": {},
   "source": [
    "## Part 1: Build a Basic Chatbot"
   ]
  },
  {
   "cell_type": "markdown",
   "metadata": {},
   "source": [
    "We'll first create a simple chatbot using LangGraph. This chatbot will respond directly to user messages. \n",
    "\n",
    "Though simple, it will illustrate the core concepts of building with LangGraph. \n",
    "\n",
    "By the end of this section, you will have a built rudimentary chatbot.\n"
   ]
  },
  {
   "cell_type": "markdown",
   "metadata": {},
   "source": [
    "**Start by creating a StateGraph.**\n",
    "\n",
    "A StateGraph object defines the structure of our chatbot as a \"state machine\". \n",
    "\n",
    "We'll add nodes to represent the llm and functions our chatbot can call and edges \n",
    "\n",
    "to specify how the bot should transition between these functions."
   ]
  },
  {
   "cell_type": "code",
   "execution_count": null,
   "metadata": {},
   "outputs": [],
   "source": [
    "from typing import Annotated\n",
    "\n",
    "from typing_extensions import TypedDict\n",
    "\n",
    "from langgraph.graph import StateGraph, START, END\n",
    "from langgraph.graph.message import add_messages"
   ]
  },
  {
   "cell_type": "code",
   "execution_count": null,
   "metadata": {},
   "outputs": [],
   "source": [
    "class State(TypedDict):\n",
    "    # Messages have the type \"list\". The `add_messages` function\n",
    "    # in the annotation defines how this state key should be updated\n",
    "    # (in this case, it appends messages to the list, rather than overwriting them)\n",
    "    messages: Annotated[list, add_messages]\n",
    "\n",
    "\n",
    "graph_builder = StateGraph(State)"
   ]
  },
  {
   "cell_type": "markdown",
   "metadata": {},
   "source": [
    "**Our graph can now handle two key tasks:**\n",
    "\n",
    "1. Each node can receive the current State as input and output an update to the state.\n",
    "2. Updates to messages will be appended to the existing list rather than overwriting it, \n",
    "    \n",
    "    thanks to the prebuilt `add_messages` function used with the Annotated syntax.\n"
   ]
  },
  {
   "cell_type": "markdown",
   "metadata": {},
   "source": [
    "**Next, add a `\"chatbot\"` node.**\n",
    "\n",
    "Nodes represent units of work. \n",
    "\n",
    "They are typically regular python functions."
   ]
  },
  {
   "cell_type": "code",
   "execution_count": null,
   "metadata": {},
   "outputs": [
    {
     "data": {
      "text/plain": [
       "<langgraph.graph.state.StateGraph at 0x124bb4ad0>"
      ]
     },
     "metadata": {},
     "output_type": "display_data"
    }
   ],
   "source": [
    "from langchain_ollama import ChatOllama\n",
    "\n",
    "llm = ChatOllama(model=\"llama3.2\")\n",
    "\n",
    "\n",
    "def chatbot(state: State):\n",
    "    return {\"messages\": [llm.invoke(state[\"messages\"])]}\n",
    "\n",
    "\n",
    "# The first argument is the unique node name\n",
    "# The second argument is the function or object that will be called whenever\n",
    "# the node is used.\n",
    "graph_builder.add_node(\"chatbot\", chatbot)"
   ]
  },
  {
   "cell_type": "markdown",
   "metadata": {},
   "source": [
    "**Notes** \n",
    "\n",
    "The chatbot node function takes the current State as input and \n",
    "\n",
    "**returns a dictionary** containing an updated messages list under the key `\"messages\"`. \n",
    "\n",
    "This is the basic pattern for all LangGraph node functions.\n",
    "\n",
    "The `add_messages` function in our State will append the llm's response messages to whatever messages are already in the state."
   ]
  },
  {
   "cell_type": "markdown",
   "metadata": {},
   "source": [
    "**Next, add an entry point. This tells our graph where to start its work each time we run it.**"
   ]
  },
  {
   "cell_type": "code",
   "execution_count": null,
   "metadata": {},
   "outputs": [
    {
     "data": {
      "text/plain": [
       "<langgraph.graph.state.StateGraph at 0x124bb4ad0>"
      ]
     },
     "metadata": {},
     "output_type": "display_data"
    }
   ],
   "source": [
    "graph_builder.add_edge(START, \"chatbot\")"
   ]
  },
  {
   "cell_type": "markdown",
   "metadata": {},
   "source": [
    "**Similarly, set a finish point.**\n",
    "\n",
    "This instructs the graph \"any time this node is run, you can exit.\""
   ]
  },
  {
   "cell_type": "code",
   "execution_count": null,
   "metadata": {},
   "outputs": [
    {
     "data": {
      "text/plain": [
       "<langgraph.graph.state.StateGraph at 0x124bb4ad0>"
      ]
     },
     "metadata": {},
     "output_type": "display_data"
    }
   ],
   "source": [
    "graph_builder.add_edge(\"chatbot\", END)"
   ]
  },
  {
   "cell_type": "markdown",
   "metadata": {},
   "source": [
    "Finally, we'll want to be able to run our graph. To do so, call \"compile()\" on the graph builder. \n",
    "\n",
    "\n",
    "This creates a \"CompiledGraph\" we can use invoke on our state."
   ]
  },
  {
   "cell_type": "code",
   "execution_count": null,
   "metadata": {},
   "outputs": [],
   "source": [
    "graph = graph_builder.compile()"
   ]
  },
  {
   "cell_type": "markdown",
   "metadata": {},
   "source": [
    "You can visualize the graph using the get_graph method and one of the \"draw\" methods, like draw_ascii or draw_png. \n",
    "\n",
    "\n",
    "The draw methods each require additional dependencies."
   ]
  },
  {
   "cell_type": "code",
   "execution_count": null,
   "metadata": {},
   "outputs": [
    {
     "data": {
      "image/png": "[encoded data removed]",
      "text/plain": [
       "<IPython.core.display.Image object>"
      ]
     },
     "metadata": {},
     "output_type": "display_data"
    }
   ],
   "source": [
    "from IPython.display import Image, display\n",
    "\n",
    "try:\n",
    "    display(Image(graph.get_graph().draw_mermaid_png()))\n",
    "except Exception:\n",
    "    # This requires some extra dependencies and is optional\n",
    "    pass"
   ]
  },
  {
   "cell_type": "markdown",
   "metadata": {},
   "source": [
    "Now let's run the chatbot!\n",
    "\n",
    "**Tip:** You can exit the chat loop at any time by typing \"quit\", \"exit\", or \"q\"."
   ]
  },
  {
   "cell_type": "code",
   "execution_count": null,
   "metadata": {},
   "outputs": [
    {
     "name": "stdout",
     "output_type": "stream",
     "text": [
      "Assistant: I am a large language model, specifically a variant of the LLaMA (Large Language Model Application) architecture. LLaMA is an open-source language model developed by Meta AI, designed to handle natural language processing tasks such as text generation, question-answering, and conversation.\n",
      "\n",
      "My specific model is based on a transformer architecture, which is a type of neural network that has become popular in recent years for its ability to process sequential data. The LLaMA model uses this architecture to generate human-like text responses to user input.\n",
      "\n",
      "Here are some key characteristics of my LLaMA-based model:\n",
      "\n",
      "1. **Model size**: My model is based on the larger LLaMA model, which has a large number of parameters (around 300 million) and is trained on a massive dataset of text from various sources.\n",
      "2. **Training data**: I was trained on a large corpus of text data, including books, articles, and conversations, to learn patterns and relationships in language.\n",
      "3. **Neural network architecture**: My model uses the transformer architecture, which consists of multiple layers of self-attention mechanisms that allow me to process sequential data in parallel.\n",
      "4. **Pre-trained and fine-tuned**: While my model is pre-trained on a large dataset, I have also been fine-tuned on various tasks and domains to improve my performance on specific applications.\n",
      "\n",
      "Overall, my LLaMA-based architecture enables me to generate human-like text responses to user input, while also being able to process and understand natural language in a robust and accurate way.\n",
      "Goodbye!\n"
     ]
    }
   ],
   "source": [
    "def stream_graph_updates(user_input: str):\n",
    "    for event in graph.stream({\"messages\": [(\"user\", user_input)]}):\n",
    "        for value in event.values():\n",
    "            print(\"Assistant:\", value[\"messages\"][-1].content)\n",
    "\n",
    "\n",
    "while True:\n",
    "    try:\n",
    "        user_input = input(\"User: \")\n",
    "        if user_input.lower() in [\"quit\", \"exit\", \"q\"]:\n",
    "            print(\"Goodbye!\")\n",
    "            break\n",
    "\n",
    "        stream_graph_updates(user_input)\n",
    "    except:\n",
    "        # fallback if input() is not available\n",
    "        user_input = \"What do you know about LangGraph?\"\n",
    "        print(\"User: \" + user_input)\n",
    "        stream_graph_updates(user_input)\n",
    "        break"
   ]
  },
  {
   "cell_type": "markdown",
   "metadata": {},
   "source": [
    "Congratulations! You've built your first chatbot using LangGraph. This bot can engage in basic conversation by taking user input and generating responses using an LLM. \n",
    "\n",
    "However, you may have noticed that the bot's knowledge is limited to what's in its training data. In the next part, we'll add a web search tool to expand the bot's knowledge and make it more capable.\n",
    "\n",
    "Below is the full code for this section for your reference:"
   ]
  },
  {
   "cell_type": "markdown",
   "metadata": {},
   "source": [
    "### Full Code"
   ]
  },
  {
   "cell_type": "code",
   "execution_count": null,
   "metadata": {},
   "outputs": [],
   "source": [
    "from typing import Annotated\n",
    "\n",
    "from typing_extensions import TypedDict\n",
    "\n",
    "from langgraph.graph import StateGraph, START, END\n",
    "from langgraph.graph.message import add_messages\n",
    "\n",
    "from langchain_ollama import ChatOllama\n",
    "\n",
    "\n",
    "class State(TypedDict):\n",
    "    # Messages have the type \"list\". The `add_messages` function\n",
    "    # in the annotation defines how this state key should be updated\n",
    "    # (in this case, it appends messages to the list, rather than overwriting them)\n",
    "    messages: Annotated[list, add_messages]\n",
    "\n",
    "\n",
    "graph_builder = StateGraph(State)\n",
    "\n",
    "\n",
    "llm = ChatOllama(model=\"llama3.2\")\n",
    "\n",
    "\n",
    "def chatbot(state: State):\n",
    "    return {\"messages\": [llm.invoke(state[\"messages\"])]}\n",
    "\n",
    "\n",
    "# The first argument is the unique node name\n",
    "# The second argument is the function or object that will be called whenever\n",
    "# the node is used.\n",
    "graph_builder.add_node(\"chatbot\", chatbot)\n",
    "graph_builder.add_edge(START, \"chatbot\")\n",
    "graph_builder.add_edge(\"chatbot\", END)\n",
    "graph = graph_builder.compile()\n",
    "\n",
    "\n",
    "# from IPython.display import Image, display\n",
    "\n",
    "# try:\n",
    "#     display(Image(graph.get_graph().draw_mermaid_png()))\n",
    "# except Exception:\n",
    "#     # This requires some extra dependencies and is optional\n",
    "#     pass\n",
    "\n",
    "\n",
    "\n",
    "def stream_graph_updates(user_input: str):\n",
    "    for event in graph.stream({\"messages\": [(\"user\", user_input)]}):\n",
    "        for value in event.values():\n",
    "            print(\"Assistant:\", value[\"messages\"][-1].content)"
   ]
  },
  {
   "cell_type": "code",
   "execution_count": null,
   "metadata": {},
   "outputs": [],
   "source": [
    "while True:\n",
    "    try:\n",
    "        user_input = input(\"User: \")\n",
    "        if user_input.lower() in [\"quit\", \"exit\", \"q\"]:\n",
    "            print(\"Goodbye!\")\n",
    "            break\n",
    "\n",
    "        stream_graph_updates(user_input)\n",
    "    except:\n",
    "        # fallback if input() is not available\n",
    "        user_input = \"What do you know about LangGraph?\"\n",
    "        print(\"User: \" + user_input)\n",
    "        stream_graph_updates(user_input)\n",
    "        break"
   ]
  }
 ],
 "metadata": {
  "language_info": {
   "name": "python"
  }
 },
 "nbformat": 4,
 "nbformat_minor": 2
}
