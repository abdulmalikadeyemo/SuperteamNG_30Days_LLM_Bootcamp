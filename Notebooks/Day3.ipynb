{
 "cells": [
  {
   "cell_type": "markdown",
   "metadata": {},
   "source": [
    "## Part 2: Enhancing the Chatbot with Tools"
   ]
  },
  {
   "cell_type": "markdown",
   "metadata": {},
   "source": [
    "To handle queries our chatbot can't answer \"from memory\", we'll integrate a web search tool. Our bot can use this tool to find relevant information and provide better responses.\n"
   ]
  },
  {
   "cell_type": "markdown",
   "metadata": {},
   "source": [
    "**Requirements**\n",
    "\n",
    "Before we start, make sure you have the necessary packages installed and API keys set up:\n",
    "\n",
    "First, install the requirements to use the Tavily Search Engine, and set your TAVILY_API_KEY."
   ]
  },
  {
   "cell_type": "code",
   "execution_count": null,
   "metadata": {},
   "outputs": [],
   "source": [
    "# %%capture --no-stderr\n",
    "# %pip install -U tavily-python langchain_community"
   ]
  },
  {
   "cell_type": "markdown",
   "metadata": {},
   "source": [
    "Set your API Keys"
   ]
  },
  {
   "cell_type": "code",
   "execution_count": null,
   "metadata": {},
   "outputs": [],
   "source": [
    "import getpass\n",
    "import os\n",
    "\n",
    "\n",
    "def _set_env(var: str):\n",
    "    if not os.environ.get(var):\n",
    "        os.environ[var] = getpass.getpass(f\"{var}: \")\n",
    "\n",
    "\n",
    "_set_env(\"TAVILY_API_KEY\")"
   ]
  },
  {
   "cell_type": "markdown",
   "metadata": {},
   "source": [
    "##### Remove existing env var"
   ]
  },
  {
   "cell_type": "code",
   "execution_count": null,
   "metadata": {},
   "outputs": [],
   "source": [
    "def _unset_env(var: str):\n",
    "    if var in os.environ:\n",
    "        del os.environ[var]\n",
    "\n",
    "_unset_env(\"ANTHROPIC_API_KEY\")"
   ]
  },
  {
   "cell_type": "markdown",
   "metadata": {},
   "source": [
    "Next, define the tool"
   ]
  },
  {
   "cell_type": "code",
   "execution_count": null,
   "metadata": {},
   "outputs": [],
   "source": [
    "from langchain_community.tools.tavily_search import TavilySearchResults\n",
    "\n",
    "search_tool = TavilySearchResults(max_results=4)\n",
    "tools = [search_tool]"
   ]
  },
  {
   "cell_type": "code",
   "execution_count": null,
   "metadata": {},
   "outputs": [
    {
     "data": {
      "text/plain": [
       "[{'url': 'https://www.latimes.com/politics/story/2024-11-06/trump-defeats-harris-47th-president-election-2024',\n",
       "  'content': 'Trump wins 2024 U.S. presidential election - Los Angeles Times Trump elected 47th president of the United States, defeating Harris to retake White House Nancy Northup, President and CEO of the Center for Reproductive Rights, called Trump’s win “a deadly threat to the democratic values of liberty and equality, the rule of law, and reproductive health, rights, and justice in the United States and around the globe.” “The Democrats thought there were enough people who hated Trump or were willing to fear him to win the race,” Jennings said. 2024 election results: Trump wins second term in historic comeback'},\n",
       " {'url': 'https://www.bbc.com/news/election/2024/us/results',\n",
       "  'content': 'US Presidential Election Results 2024 - BBC News Close menu BBC News Kamala Harris of the Democrat party has 0 electoral college votes. Donald Trump of the Republican party has 0 electoral college votes. Kamala Harris of the Democrat party has 158,810 votes (38.4%) Donald Trump of the Republican party has 249,225 votes (60.2%) US presidential election results 2024 US election 2024 Voting in some states is particularly hard to predict, with polls showing they could be won by the Republicans or the Democratic party. The battleground states that could decide the 2024 presidential election are: Voters in 11 states will also elect a governor. US election polls: Who is ahead - Harris or Trump? US election 2024 About the BBC'},\n",
       " {'url': 'https://www.wired.com/story/election-2024-donald-trump-win/',\n",
       "  'content': 'Donald Trump Defeats Kamala Harris in the 2024 Presidential Election | WIRED Donald Trump Defeats Kamala Harris in the 2024 Presidential Election Donald Trump Defeats Kamala Harris in the 2024 Presidential Election Former President Donald Trump was elected the 47th president of the United States on Wednesday, toppling Kamala Harris in a tightly contested race. Kennedy Jr. celebrated Trump’s victory as well, writing on X “Let’s bring the country together and Make America Healthy Again!” Kennedy endorsed Trump in August. “I fully endorse President Trump and hope for his rapid recovery,” Musk posted to X at the time. Musk’s America PAC, along with Turning Point Action, led Trump’s canvassing operations in states like Michigan, Arizona, and Wisconsin.'},\n",
       " {'url': 'https://www.nytimes.com/2024/11/06/us/politics/trump-wins-presidency.html',\n",
       "  'content': \"The 2024 election is the second time Mr. Trump has defeated a woman trying to break through the nation's highest gender barrier — the presidency — after he prevailed over Hillary Clinton\"}]"
      ]
     },
     "metadata": {},
     "output_type": "display_data"
    }
   ],
   "source": [
    "search_tool.invoke(\"Who won the 2024 US election?\")"
   ]
  },
  {
   "cell_type": "markdown",
   "metadata": {},
   "source": [
    "**The results are page summaries our chat bot can use to answer questions.**\n",
    "\n",
    "\n",
    "\n",
    "Next, we'll start defining our graph. The following is all the same as in Part 1, except we have added `bind_tools` on our LLM. \n",
    "\n",
    "\n",
    "This lets the LLM know the correct JSON format to use if it wants to use our search engine.\n"
   ]
  },
  {
   "cell_type": "code",
   "execution_count": null,
   "metadata": {},
   "outputs": [
    {
     "data": {
      "text/plain": [
       "<langgraph.graph.state.StateGraph at 0x125cec350>"
      ]
     },
     "metadata": {},
     "output_type": "display_data"
    }
   ],
   "source": [
    "from typing import Annotated\n",
    "\n",
    "from typing_extensions import TypedDict\n",
    "\n",
    "from langgraph.graph import StateGraph, START, END\n",
    "from langgraph.graph.message import add_messages\n",
    "\n",
    "from langchain_ollama import ChatOllama\n",
    "from langchain_groq import ChatGroq\n",
    "from langchain_anthropic import ChatAnthropic\n",
    "from langchain_openai import ChatOpenAI\n",
    "\n",
    "\n",
    "\n",
    "class State(TypedDict):\n",
    "    # Messages have the type \"list\". The `add_messages` function\n",
    "    # in the annotation defines how this state key should be updated\n",
    "    # (in this case, it appends messages to the list, rather than overwriting them)\n",
    "    messages: Annotated[list, add_messages]\n",
    "\n",
    "\n",
    "graph_builder = StateGraph(State)\n",
    "\n",
    "\n",
    "llm = ChatOllama(model=\"llama3.2\", temperature=0)\n",
    "# llm = ChatGroq(model=\"mixtral-8x7b-32768\")\n",
    "# llm = ChatAnthropic(model=\"claude-3-5-sonnet-20241022\")\n",
    "# llm = ChatOpenAI(model=\"gpt-4o-mini\")\n",
    "\n",
    "# Modification: tell the LLM which tools it can call\n",
    "llm_with_tools = llm.bind_tools(tools)\n",
    "\n",
    "\n",
    "def chatbot(state: State):\n",
    "    return {\"messages\": [llm_with_tools.invoke(state[\"messages\"])]}\n",
    "\n",
    "\n",
    "\n",
    "graph_builder.add_node(\"chatbot\", chatbot)"
   ]
  },
  {
   "cell_type": "markdown",
   "metadata": {},
   "source": [
    "Next we need to create a function to actually run the tools if they are called. We'll do this by adding the tools to a new node.\n",
    "\n",
    "Below, we implement a `BasicToolNode` that checks the most recent message in the state and calls tools if the message contains `tool_calls`. \n",
    "\n",
    "It relies on the LLM's `tool_calling` support, which is available in LLama, Anthropic, OpenAI, Google Gemini, and a number of other LLM providers.\n",
    "\n",
    "We will later replace this with LangGraph's prebuilt `ToolNode` to speed things up, but building it ourselves first is instructive."
   ]
  },
  {
   "cell_type": "code",
   "execution_count": null,
   "metadata": {},
   "outputs": [
    {
     "data": {
      "text/plain": [
       "<langgraph.graph.state.StateGraph at 0x125cec350>"
      ]
     },
     "metadata": {},
     "output_type": "display_data"
    }
   ],
   "source": [
    "import json\n",
    "\n",
    "from langchain_core.messages import ToolMessage\n",
    "\n",
    "\n",
    "class BasicToolNode:\n",
    "    \"\"\"A node that runs the tools requested in the last AIMessage.\"\"\"\n",
    "\n",
    "    def __init__(self, tools: list) -> None:\n",
    "        self.tools_by_name = {tool.name: tool for tool in tools}\n",
    "\n",
    "    def __call__(self, inputs: dict):\n",
    "        if messages := inputs.get(\"messages\", []):\n",
    "            message = messages[-1]\n",
    "        else:\n",
    "            raise ValueError(\"No message found in input\")\n",
    "        outputs = []\n",
    "        \n",
    "        for tool_call in message.tool_calls:\n",
    "            tool_result = self.tools_by_name[tool_call[\"name\"]].invoke(\n",
    "                tool_call[\"args\"]\n",
    "            )\n",
    "            outputs.append(\n",
    "                ToolMessage(\n",
    "                    content=json.dumps(tool_result),\n",
    "                    name=tool_call[\"name\"],\n",
    "                    tool_call_id=tool_call[\"id\"],\n",
    "                )\n",
    "            )\n",
    "        return {\"messages\": outputs}\n",
    "\n",
    "\n",
    "tool_node = BasicToolNode(tools=[search_tool])\n",
    "graph_builder.add_node(\"tools\", tool_node)"
   ]
  },
  {
   "cell_type": "markdown",
   "metadata": {},
   "source": [
    "With the tool node added, we can define the `conditional_edges`.\n",
    "\n",
    "Recall that edges route the control flow from one node to the next. \n",
    "\n",
    "Conditional edges usually contain \"if\" statements to route to different nodes depending on the current graph state. \n",
    "\n",
    "These functions receive the current graph state and return a string or list of strings indicating which node(s) to call next."
   ]
  },
  {
   "cell_type": "markdown",
   "metadata": {},
   "source": [
    "Below, call define a router function called `route_tools`, that checks for tool_calls in the chatbot's output. \n",
    "\n",
    "\n",
    "Provide this function to the graph by calling `add_conditional_edges`, which tells the graph that whenever the chatbot node completes to check this function to see where to go next.\n",
    "\n",
    "The condition will route to `tools` if tool calls are present and `END` if not.\n",
    "\n",
    "Later, we will replace this with the prebuilt `tools_condition` to be more concise, but implementing it ourselves first makes things more clear."
   ]
  },
  {
   "cell_type": "code",
   "execution_count": null,
   "metadata": {},
   "outputs": [],
   "source": [
    "from typing import Literal\n",
    "\n",
    "\n",
    "def route_tools(state: State):\n",
    "    \"\"\"\n",
    "    Use in the conditional_edge to route to the ToolNode if the last message\n",
    "    has tool calls. Otherwise, route to the end.\n",
    "    \"\"\"\n",
    "    if isinstance(state, list):\n",
    "        ai_message = state[-1]\n",
    "    elif messages := state.get(\"messages\", []):\n",
    "        ai_message = messages[-1]\n",
    "    else:\n",
    "        raise ValueError(f\"No messages found in input state to tool_edge: {state}\")\n",
    "    \n",
    "    if hasattr(ai_message, \"tool_calls\") and len(ai_message.tool_calls) > 0:\n",
    "        return \"tools\"\n",
    "    return END\n",
    "\n",
    "\n",
    "# The `tools_condition` function returns \"tools\" if the chatbot asks to use a tool, and \"END\" if\n",
    "# it is fine directly responding. This conditional routing defines the main agent loop.\n",
    "\n",
    "\n",
    "graph_builder.add_edge(START, \"chatbot\")\n",
    "\n",
    "graph_builder.add_conditional_edges(\n",
    "    \"chatbot\",\n",
    "    route_tools,\n",
    "\n",
    "    # The following dictionary lets you tell the graph to interpret the condition's outputs as a specific node\n",
    "    # It defaults to the identity function, but if you\n",
    "    # want to use a node named something else apart from \"tools\",\n",
    "    # You can update the value of the dictionary to something else\n",
    "    # e.g., \"tools\": \"my_tools\"\n",
    "    \n",
    "    {\"tools\": \"tools\", END: END},\n",
    ")\n",
    "\n",
    "\n",
    "# Any time a tool is called, we return to the chatbot to decide the next step\n",
    "\n",
    "graph_builder.add_edge(\"tools\", \"chatbot\")\n",
    "graph = graph_builder.compile()"
   ]
  },
  {
   "cell_type": "markdown",
   "metadata": {},
   "source": [
    "Notice that conditional edges start from a single node. This tells the graph \"any time the '`chatbot`' node runs, either go to 'tools' if it calls a tool, or end the loop if it responds directly.\n",
    "\n",
    "Like the prebuilt `tools_condition`, our function returns the `END` string if no tool calls are made. When the graph transitions to `END`, it has no more tasks to complete and ceases execution. Because the condition can return END, we don't need to explicitly set a `finish_point` this time. Our graph already has a way to finish!"
   ]
  },
  {
   "cell_type": "markdown",
   "metadata": {},
   "source": [
    "Let's visualize the graph we've built. The following function has some additional dependencies to run that are unimportant for this tutorial."
   ]
  },
  {
   "cell_type": "code",
   "execution_count": null,
   "metadata": {},
   "outputs": [
    {
     "data": {
      "image/png": "[encoded data removed]",
      "text/plain": [
       "<IPython.core.display.Image object>"
      ]
     },
     "metadata": {},
     "output_type": "display_data"
    }
   ],
   "source": [
    "from IPython.display import Image, display\n",
    "\n",
    "try:\n",
    "    display(Image(graph.get_graph().draw_mermaid_png()))\n",
    "except Exception:\n",
    "    # This requires some extra dependencies and is optional\n",
    "    pass"
   ]
  },
  {
   "cell_type": "code",
   "execution_count": null,
   "metadata": {},
   "outputs": [
    {
     "name": "stdout",
     "output_type": "stream",
     "text": [
      "Assistant: \n",
      "Assistant: [{\"url\": \"https://www.cnn.com/\", \"content\": \"2024 Elections US World Politics Business Health Entertainment Style Travel Sports Underscored Science Climate Weather Ukraine-Russia War Israel-Hamas War Black Friday Deals CNN10 About CNN Daniel Ramalho/AFP/Getty ImagesWorld leaders wondering what the next four years will hold got a clue from a Trump ally at the G20 \\u2022 Video 2:50 CNNVideo CNN reporter asks Trump fans at UFC event where they get their news 2:50 \\u2022 Analysis Analysis Brandon Bell/Getty ImagesAnalysis Trump\\u2019s pick for fracker-in-chief will have a tough time pumping a lot more oil More from CNN \\u2022 Video 0:52 CNNVideo Anderson Cooper shows you how to vote for CNN Hero of the Year 0:52 \\u2022 Track Track Bill Pugliano/Getty ImagesTrack Here are Trump\\u2019s picks for key posts so far CNN10 About CNN\"}, {\"url\": \"https://www.nytimes.com/\", \"content\": \"5 min read\\nEzra Klein\\nThe Unsettling Lesson of the OpenAI Mess\\n7 min read\\nThomas B. Edsall\\nThe Roots of Trump\\u2019s Rage\\n10 min read\\nBernie Sanders\\nBernie Sanders: Justice for the Palestinians and Security for Israel\\n6 min read\\nDavid Brooks on Staying Humane in Inhumane Times\\n6 min listen\\nThe Labels We Attach to Political Beliefs\\n4 min read\\nKelly Barnhill\\nWhat Does It Mean to Be a Writer When My Words Have Vanished?\\n 4 min read\\nFrank Bruni\\nCan Biden\\u2019s Family Talk Turkey?\\n9 min read\\nDavid Brooks\\nThe Fight for the Soul of A.I.\\n5 min read\\nThomas L. Friedman\\nThe Rescuers\\n16 min read\\nNicholas Kristof\\nHere\\u2019s How Houston Is Fighting Homelessness \\u2014 and Winning\\n11 min read\\nDayton Duncan\\n Here\\u2019s how to maximize the benefits.\\n4 min read\\nMichelle Cottle\\nWhat I\\u2019m Thankful for in Our Politics (You Read That Right)\\n5 min read\\nBinyamin Appelbaum and Peter Coy\\nWhy Is Everyone So Grumpy?\\n5 min read\\nMaureen Dowd\\nMy Brother\\u2019s Thanksgiving Lament\\n Spelling Bee\\nThe Mini Crossword\\nWordle\\nThe Crossword\\nVertex\\nConnections\\nSudoku\\nLetter Boxed\\nTiles\\nPuzzles, brain teasers, solving tips and more.\\n Spelling Bee\\nThe Mini Crossword\\nWordle\\nThe Crossword\\nVertex\\nConnections\\nSudoku\\nLetter Boxed\\nTiles\\nPuzzles, brain teasers, solving tips and more.\\n\"}, {\"url\": \"https://www.nbcnews.com/\", \"content\": \"judge asks in granting bail\\nAsian America\\nBrooklyn woman arrested after allegedly throwing hot coffee at a man in a Palestinian scarf\\nU.S. news\\nMichigan police make arrest in the disappearance of a woman missing since 2021\\nAsian America\\nBrooklyn woman arrested after allegedly throwing hot coffee at a man in a Palestinian scarf\\nU.S. news\\nMichigan police make arrest in the disappearance of a woman missing since 2021\\nHealth\\nHealth news\\nMysterious dog respiratory illness may be caused by a new type of bacterial infection, researchers say\\nCoronavirus\\nFour more free Covid tests will be available to U.S. households\\nHealth news\\nThis type of belly fat is linked to increased risk of Alzheimer's, research finds\\nHealth news\\nNew weight loss drugs change how people think of Thanksgiving and other holiday meals\\nHealth news\\nDeadly listeria outbreak linked to whole peaches, nectarines and plums\\nHealth news\\nNew weight loss drugs change how people think of Thanksgiving and other holiday meals\\nHealth news\\nDeadly listeria outbreak linked to whole peaches, nectarines and plums\\nPop culture\\nCulture & Trends\\nComedian Matt Rife responds to Netflix special backlash with link to \\u2018special needs helmets\\u2019\\nU.S. news\\nA stampede, shooting and bodyguard brawls: How Sean Combs' legal troubles have played out\\nOUT News\\nAntoni Porowski and fianc\\u00e9 Kevin Harrington split 1 year after getting engaged\\nAsian America\\nGroom secretly learned Korean for over a year to surprise wife and family at wedding\\nCulture & Trends\\n'We just had to do it': Bradley Cooper speaks out about prosthetic nose controversy in 'Maestro'\\nAsian America\\nGroom secretly learned Korean for over a year to surprise wife and family at wedding\\nCulture & Trends\\n'We just had to do it': Bradley Cooper speaks out about prosthetic nose controversy in 'Maestro'\\nBusiness, Tech & Media\\nEXCLUSIVE\\nDiageo cites Diddy rape claims in renewed push to keep him out of tequila ads\\n#MeToo Reckoning\\nDiddy\\u2019s companies named in suit accusing an ex-Bad Boy president of sexual assault\\nTech News\\nWith X under fire, Elon Musk digs in and finds support from conservatives\\nTech News\\nSam Altman returns as OpenAI CEO after days of infighting at AI startup\\nU.S. news\\nHow Formula One accidentally helped Las Vegas workers land the 'best contract ever'\\nTech News\\nSam Altman returns as OpenAI CEO after days of infighting at AI startup\\nU.S. news\\nHow Formula One accidentally helped Las Vegas workers land the 'best contract ever'\\nNBC OUT\\nOUT News\\nAntoni Porowski and fianc\\u00e9 Kevin Harrington split 1 year after getting engaged\\nOUT Pop Culture\\nIn 'The Dads,' men bond over fishing and their love for their transgender kids\\nOUT Politics and Policy\\nTeachers and students grapple with fears and confusion about new laws restricting pronoun use\\nGay bar druggings\\nVictims of the deadly druggings that terrorized NYC's gay bars are haunted by unknowns\\nAsian America\\nCulture & Trends\\nNetflix\\u2019s \\u2018Squid Game: The Challenge\\u2019 turns dystopian drama into real-life competition \\u2014 minus the death\\nAsian America\\nThanksgiving fusion dishes have become a way for Asian Americans to share their cultures with others\\nImmigration\\nMore asylum claims, illegal crossings along U.S.-Canada border, despite the dangers\\nAsian America\\nBrooklyn woman arrested after allegedly throwing hot coffee at a man in a Palestinian scarf\\nNBCBLK\\nNBCBLK\\n Profile\\nSections\\ntv\\nFeatured\\nMore From NBC\\nFollow NBC News\\nnews Alerts\\nThere are no new alerts at this time\\nHostage release and Gaza truce to start Friday, Qatar says\\nLIVEAl-Shifa Hospital director arrested by Israeli forces\\nLIVEAl-Shifa Hospital director arrested by Israeli forces\\nHostage deal exposes tensions between Israel\\u2019s far-right and hostage families\\nGazans welcome deal to pause fighting but dread what may come afterward\\nFringe proposal to displace Palestinians draws condemnation and triggers past trauma\\nOne of the only places that can claim to host the First Thanksgiving rejects the label\\nOne of the only places that can claim to host the First Thanksgiving rejects the label\\nNew York City Mayor Eric Adams accused of sexually assaulting a colleague in 1993\\nNew York City Mayor Eric Adams accused of sexually assaulting a colleague in 1993\\nSean 'Diddy' Combs accused of drugging, sexually assaulting woman when she was in college\\nSean 'Diddy' Combs accused of drugging, sexually assaulting woman when she was in college\\nNetflix\\u2019s \\u2018Squid Game: The Challenge\\u2019 turns dystopian drama into real-life competition \\u2014 minus the death\\nChinese hospitals \\u2018overwhelmed with sick children\\u2019 after surge in respiratory illness\\nChinese hospitals \\u2018overwhelmed with sick children\\u2019 after surge in respiratory illness\\nFor teen girls victimized by \\u2018deepfake\\u2019 nude photos, there are few pathways to recourse\\nFor teen girls victimized by \\u2018deepfake\\u2019 nude photos, there are few pathways to recourse\\nTrump rages about judge and law clerk while gag order is paused in New York fraud trial\\nTrump rages about judge and law clerk while gag order is paused in New York fraud trial\\nLong-awaited hostage deal set to move ahead\\nLong-awaited hostage deal set to move ahead\\nBlack Friday\\nThe best Black Friday deals on Amazon\\nBlack Friday\\nThe best early Black Friday deals to shop right now\\nLuggage\\n8 highly rated work totes for commuting with ease\\nBlack Friday\\nThe best Black Friday deals at Target to shop right now\\nBlack Friday\\nThe best Walmart Black Friday deals to shop right now\\n The best Walmart Black Friday deals to shop right now\\nCaptives of Cannabis Part II: Mass Murder, Migrants & Money Laundering\\nLatest News\\nHead of security for sons of 'El Chapo' arrested in Mexico, sought for extradition\\nAlabama priest who fled to Italy with teen he later married is expected to be defrocked\\nSean 'Diddy' Combs accused of drugging, sexually assaulting woman when she was in college\\nHostage deal exposes tensions between Israel\\u2019s far-right and hostage families\\nNew York City Mayor Eric Adams accused of sexually assaulting a colleague in 1993\\n'Stop the rancor': Biden calls for national unity on Thanksgiving Day\\nTrump rages about judge and law clerk while gag order is paused in New York fraud trial\\nBatting cage accident at Georgia high school leaves a player in a coma\\nChinese hospitals \\u2018overwhelmed with sick children\\u2019 after surge in respiratory illness\\nNetflix\\u2019s \\u2018Squid Game: The Challenge\\u2019 turns dystopian drama into real-life competition \\u2014 minus the death\\nFor teen girls victimized by \\u2018deepfake\\u2019 nude photos, there are few pathways to recourse\\nAs holiday shopping begins, Black business owners hope shoppers don\\u2019t forget them\\nGerman police raid homes of far-right Reich Citizens group\\nMacy\\u2019s Thanksgiving Day Parade recap: All the floats, performances and more\\nOne of the only places that can claim to host the First Thanksgiving rejects the label\\nThis Afro Latina actor touts the power behind journaling\\nThanksgiving travelers told to 'be nice' as all-time passenger record set to be broken\\nSmall Kentucky town urged to evacuate after train derails, spilling chemicals\\nIn a shock for Europe, anti-Islam populist Geert Wilders records a massive win in Dutch elections\\nGaza hostage release and truce to start Friday, Qatar says\\nUC Berkeley men's basketball player confronts fan who allegedly called him a 'terrorist'\\nAustralia has too many sheep \\u2014 and farmers are giving them away for free\\nCharleston, South Carolina, elects its first Republican mayor since Reconstruction Era\\nNorth Korea says it is suspending military pact with South\\nBiden and Harris to attend services for Rosalynn Carter in Georgia\\nWhat causes skin to itch? Remembering Rosalynn Carter, former first lady and tireless humanitarian\\nTop videos\\nNightly News\\nLong-awaited hostage deal set to move ahead\\nNightly News\\nIsraeli military arrests Al-Shifa Hospital director, 200 patients too sick to evacuate\\nNightly News\\nAuthorities looking into airline incidents amid Thanksgiving travel rush\\nNightly News\\nFormer Obama advisor caught on video berating NYC street vendor\\nMost popular\\nTrump investigations\\n'Deluge' of threats against judge and law clerk in Trump\\u2019s civil fraud trial are detailed in new court filing\\nCelebrity\\nCuba Gooding Jr. faces 2 sexual assault lawsuits in New York\\nU.S. news\\nHusband charged with murder more than two years after his wife vanished in Michigan\\nLive Updates\\nMacy\\u2019s As holiday shopping begins, Black business owners hope shoppers don\\u2019t forget them\\n#MeToo Reckoning\\nDiddy\\u2019s companies named in suit accusing an ex-Bad Boy president of sexual assault\\nNBCBLK\\nAlabama A&M will lead bands in Macy\\u2019s Thanksgiving Day Parade\\nNBCBLK\\nNFL disability program leaves retired Saints tight end hurting and angry\\nLatino\\nLatino\\nBrazilian officials investigating company behind Taylor Swift shows in Rio de Janeiro after fan's death\\nCulture & Trends\\nThis Afro Latina actor touts the power behind journaling\\nCulture & Trends\\nPuerto Ricans are pushing to make these unique slang words officially Spanish\\nImmigration\\nMore asylum claims, illegal crossings along U.S.-Canada border, despite the dangers\\nYour personalized news, including saved and local stories\\nAccess these features with your free account.\\n\"}, {\"url\": \"https://www.cnn.com/world\", \"content\": \"World news - breaking news, video, headlines and opinion | CNN Africa Americas Asia Australia China Europe India Middle East United Kingdom CNN10 About CNN \\u2022 Video 1:26 K Force Network via ReutersVideo \\u2018Pouring oil into the fire\\u2019: Russia reacts to Biden authorizing Ukraine to use US long-range missiles 1:26 \\u2022 Video 2:28 APVideo Video shows mine shaft where hundreds are holed up without food or water for months 2:28 \\u2022 Video 2:32 Saul Loeb/AFP/Getty ImagesVideo See dramatic effects of climate change as sand dunes appear in Amazon rainforest 2:32 Fran\\u00e7ois Walschaerts/AFP/Getty ImagesZelensky says Ukraine war will end \\u2018faster\\u2019 under Trump presidency \\u2022 Video 2:43 OMAR AL-QATTAA/AFP/AFP via Getty ImagesVideo UN report: Israel is intentionally causing death, starvation in Gaza 2:43 CNN10 About CNN\"}]\n",
      "Assistant: I can't help you with that.\n",
      "Assistant: \n",
      "Assistant: [{\"url\": \"https://docs.smith.langchain.com/langgraph_cloud\", \"content\": \"LangGraph Cloud is a managed service for deploying and hosting LangGraph applications. Deploying applications with LangGraph Cloud shortens the time-to-market for developers. With one click, deploy a production-ready API with built-in persistence for your LangGraph application. LangGraph Cloud APIs are horizontally scalable and deployed with durable storage.\"}, {\"url\": \"https://langgraph.theforage.cn/cloud/\", \"content\": \"LangGraph Cloud is a managed service for deploying and hosting LangGraph applications. Deploying applications with LangGraph Cloud shortens the time-to-market for developers. With one click, deploy a production-ready API with built-in persistence for your LangGraph application. LangGraph Cloud APIs are horizontally scalable and deployed with\"}, {\"url\": \"https://langchain-ai.github.io/langgraph/concepts/langgraph_cloud/\", \"content\": \"LangGraph's Cloud SaaS is a managed service for deploying LangGraph APIs, regardless of its definition or dependencies. The service offers managed implementations of checkpointers and stores, allowing you to focus on building the right cognitive architecture for your use case. By handling scalable & secure infrastructure, LangGraph Cloud offers\"}, {\"url\": \"https://blog.langchain.dev/langgraph-cloud/\", \"content\": \"LangGraph Cloud does the heavy lifting to help you achieve fault-tolerant scalability. It gracefully manages horizontally-scaling task queues, servers, and a robust Postgres checkpointer to handle many concurrent users and efficiently store large states and threads. LangGraph Cloud is designed to support real-world interaction patterns.\"}]\n",
      "Assistant: LangGraph Cloud is a managed service for deploying and hosting LangGraph applications. It allows developers to deploy production-ready APIs with built-in persistence, shortening the time-to-market. The service offers horizontally scalable APIs deployed with durable storage, making it suitable for real-world interaction patterns. With LangGraph Cloud, you can focus on building the right cognitive architecture for your use case while leveraging managed implementations of checkpointers and stores.\n",
      "Goodbye!\n"
     ]
    }
   ],
   "source": [
    "while True:\n",
    "    try:\n",
    "        user_input = input(\"User: \")\n",
    "        if user_input.lower() in [\"quit\", \"exit\", \"q\"]:\n",
    "            print(\"Goodbye!\")\n",
    "            break\n",
    "\n",
    "        stream_graph_updates(user_input)\n",
    "    except:\n",
    "        # fallback if input() is not available\n",
    "        user_input = \"What do you know about LangGraph Cloud?\"\n",
    "        print(\"User: \" + user_input)\n",
    "        stream_graph_updates(user_input)\n",
    "        break"
   ]
  },
  {
   "cell_type": "markdown",
   "metadata": {},
   "source": [
    "**Congrats!** You've created a conversational agent in langgraph that can use a search engine to retrieve updated information when needed. Now it can handle a wider range of user queries. \n",
    "\n",
    "\n",
    "Our chatbot still can't remember past interactions on its own, limiting its ability to have coherent, multi-turn conversations. In the next part, we'll add memory to address this.\n"
   ]
  },
  {
   "cell_type": "markdown",
   "metadata": {},
   "source": [
    "The full code for the graph we've created in this section is reproduced below, replacing our `BasicToolNode` for the prebuilt `ToolNode`, and our `route_tools` condition with the prebuilt `tools_condition`"
   ]
  },
  {
   "cell_type": "markdown",
   "metadata": {},
   "source": [
    "#### Full Code"
   ]
  },
  {
   "cell_type": "code",
   "execution_count": null,
   "metadata": {},
   "outputs": [],
   "source": [
    "from typing import Annotated\n",
    "\n",
    "from langchain_ollama import ChatOllama\n",
    "from langchain_community.tools.tavily_search import TavilySearchResults\n",
    "from langchain_core.messages import BaseMessage\n",
    "from typing_extensions import TypedDict\n",
    "\n",
    "from langgraph.graph import StateGraph\n",
    "from langgraph.graph.message import add_messages\n",
    "from langgraph.prebuilt import ToolNode, tools_condition\n",
    "\n",
    "\n",
    "class State(TypedDict):\n",
    "    messages: Annotated[list, add_messages]\n",
    "\n",
    "\n",
    "graph_builder = StateGraph(State)\n",
    "\n",
    "\n",
    "search_tool = TavilySearchResults(max_results=2)\n",
    "tools = [search_tool]\n",
    "llm = ChatOllama(model=\"llama3.2\", temperature=0)\n",
    "llm_with_tools = llm.bind_tools(tools)\n",
    "\n",
    "\n",
    "def chatbot(state: State):\n",
    "    return {\"messages\": [llm_with_tools.invoke(state[\"messages\"])]}\n",
    "\n",
    "\n",
    "graph_builder.add_node(\"chatbot\", chatbot)\n",
    "\n",
    "tool_node = ToolNode(tools=tools)\n",
    "graph_builder.add_node(\"tools\", tool_node)\n",
    "\n",
    "graph_builder.set_entry_point(\"chatbot\")\n",
    "graph_builder.add_conditional_edges(\n",
    "    \"chatbot\",\n",
    "    tools_condition,\n",
    ")\n",
    "# Any time a tool is called, we return to the chatbot to decide the next step\n",
    "graph_builder.add_edge(\"tools\", \"chatbot\")\n",
    "\n",
    "graph = graph_builder.compile()\n"
   ]
  }
 ],
 "metadata": {
  "language_info": {
   "name": "python"
  }
 },
 "nbformat": 4,
 "nbformat_minor": 2
}
